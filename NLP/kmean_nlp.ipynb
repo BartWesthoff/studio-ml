{
 "cells": [
  {
   "cell_type": "code",
   "execution_count": 1,
   "metadata": {},
   "outputs": [
    {
     "name": "stderr",
     "output_type": "stream",
     "text": [
      "c:\\Users\\bartw\\AppData\\Local\\Programs\\Python\\Python310\\lib\\site-packages\\tqdm\\auto.py:22: TqdmWarning: IProgress not found. Please update jupyter and ipywidgets. See https://ipywidgets.readthedocs.io/en/stable/user_install.html\n",
      "  from .autonotebook import tqdm as notebook_tqdm\n",
      "Downloading (…)okenizer_config.json: 100%|██████████| 1.14k/1.14k [00:00<00:00, 567kB/s]\n",
      "c:\\Users\\bartw\\AppData\\Local\\Programs\\Python\\Python310\\lib\\site-packages\\huggingface_hub\\file_download.py:129: UserWarning: `huggingface_hub` cache-system uses symlinks by default to efficiently store duplicated files but your machine does not support them in C:\\Users\\bartw\\.cache\\huggingface\\hub. Caching files will still work but in a degraded version that might require more space on your disk. This warning can be disabled by setting the `HF_HUB_DISABLE_SYMLINKS_WARNING` environment variable. For more details, see https://huggingface.co/docs/huggingface_hub/how-to-cache#limitations.\n",
      "To support symlinks on Windows, you either need to activate Developer Mode or to run Python as an administrator. In order to see activate developer mode, see this article: https://docs.microsoft.com/en-us/windows/apps/get-started/enable-your-device-for-development\n",
      "  warnings.warn(message)\n",
      "Downloading (…)lve/main/config.json: 100%|██████████| 660/660 [00:00<00:00, 660kB/s]\n",
      "Downloading (…)olve/main/vocab.json: 100%|██████████| 733k/733k [00:00<00:00, 2.07MB/s]\n",
      "Downloading (…)olve/main/merges.txt: 100%|██████████| 383k/383k [00:00<00:00, 1.48MB/s]\n",
      "Downloading (…)/main/tokenizer.json: 100%|██████████| 1.12M/1.12M [00:00<00:00, 2.75MB/s]\n",
      "Downloading (…)cial_tokens_map.json: 100%|██████████| 239/239 [00:00<00:00, 120kB/s]\n",
      "Downloading (…)\"pytorch_model.bin\";: 100%|██████████| 467M/467M [00:32<00:00, 14.5MB/s] \n",
      "Some weights of the model checkpoint at pdelobelle/robbert-v2-dutch-base were not used when initializing RobertaModel: ['lm_head.bias', 'lm_head.dense.bias', 'lm_head.dense.weight', 'lm_head.decoder.weight', 'lm_head.layer_norm.bias', 'lm_head.layer_norm.weight', 'lm_head.decoder.bias']\n",
      "- This IS expected if you are initializing RobertaModel from the checkpoint of a model trained on another task or with another architecture (e.g. initializing a BertForSequenceClassification model from a BertForPreTraining model).\n",
      "- This IS NOT expected if you are initializing RobertaModel from the checkpoint of a model that you expect to be exactly identical (initializing a BertForSequenceClassification model from a BertForSequenceClassification model).\n",
      "Some weights of RobertaModel were not initialized from the model checkpoint at pdelobelle/robbert-v2-dutch-base and are newly initialized: ['roberta.pooler.dense.bias', 'roberta.pooler.dense.weight']\n",
      "You should probably TRAIN this model on a down-stream task to be able to use it for predictions and inference.\n",
      "c:\\Users\\bartw\\AppData\\Local\\Programs\\Python\\Python310\\lib\\site-packages\\sklearn\\cluster\\_kmeans.py:870: FutureWarning: The default value of `n_init` will change from 10 to 'auto' in 1.4. Set the value of `n_init` explicitly to suppress the warning\n",
      "  warnings.warn(\n"
     ]
    },
    {
     "name": "stdout",
     "output_type": "stream",
     "text": [
      "Text: Tesla heeft vandaag een koers winst gemaakt van 5%\tCluster: 1\n",
      "Text: Amazon groeide vandaag met 2%\tCluster: 1\n",
      "Text: Tim cook ging vanadaag praten met Joe bidon\tCluster: 2\n",
      "Text: Apple moest veel personeel ontslaan\tCluster: 0\n"
     ]
    }
   ],
   "source": [
    "from transformers import AutoTokenizer, AutoModel\n",
    "from sklearn.cluster import KMeans\n",
    "import torch\n",
    "import numpy as np\n",
    "\n",
    "# Load the pre-trained tokenizer and model\n",
    "tokenizer = AutoTokenizer.from_pretrained('pdelobelle/robbert-v2-dutch-base',max_length=512, truncation=True)\n",
    "model = AutoModel.from_pretrained('pdelobelle/robbert-v2-dutch-base')\n",
    "\n",
    "# Example list of texts\n",
    "texts = [\"Tesla heeft vandaag een koers winst gemaakt van 5%\",\n",
    "         \"Amazon groeide vandaag met 2%\",\n",
    "         \"Tim Cook ging vanadaag praten met Joe Biden\",\n",
    "         \"Apple moest veel personeel ontslaan\"]\n",
    "\n",
    "# Tokenize and generate embeddings for each text\n",
    "embeddings = []\n",
    "for text in texts:\n",
    "    tokens = tokenizer.encode(text, add_special_tokens=True)\n",
    "    inputs = torch.tensor([tokens])\n",
    "    outputs = model(inputs)[0]\n",
    "    embedding = torch.mean(outputs, dim=1).squeeze().detach().numpy()\n",
    "    embeddings.append(embedding)\n",
    "\n",
    "# Perform clustering\n",
    "kmeans = KMeans(n_clusters=3)\n",
    "clusters = kmeans.fit_predict(embeddings)\n",
    "\n",
    "# Print the clustering results\n",
    "for text, cluster in zip(texts, clusters):\n",
    "    print(f\"Text: {text}\\tCluster: {cluster}\")\n"
   ]
  },
  {
   "cell_type": "markdown",
   "metadata": {},
   "source": [
    "Dit is een opdracht"
   ]
  },
  {
   "cell_type": "code",
   "execution_count": 2,
   "metadata": {},
   "outputs": [
    {
     "name": "stderr",
     "output_type": "stream",
     "text": [
      "Downloading (…)0398c/.gitattributes: 100%|██████████| 391/391 [00:00<00:00, 377kB/s]\n",
      "Downloading (…)813da0398c/README.md: 100%|██████████| 14.5k/14.5k [00:00<00:00, 7.07MB/s]\n",
      "Downloading (…)3da0398c/config.json: 100%|██████████| 660/660 [00:00<00:00, 330kB/s]\n",
      "Downloading (…)13da0398c/merges.txt: 100%|██████████| 383k/383k [00:00<00:00, 8.38MB/s]\n",
      "Downloading (…)\"pytorch_model.bin\";: 100%|██████████| 467M/467M [00:36<00:00, 12.9MB/s] \n",
      "Downloading (…)cial_tokens_map.json: 100%|██████████| 239/239 [00:00<00:00, 117kB/s]\n",
      "Downloading (…)0398c/tokenizer.json: 100%|██████████| 1.12M/1.12M [00:00<00:00, 2.76MB/s]\n",
      "Downloading (…)okenizer_config.json: 100%|██████████| 1.14k/1.14k [00:00<00:00, 570kB/s]\n",
      "Downloading (…)13da0398c/vocab.json: 100%|██████████| 733k/733k [00:00<00:00, 2.05MB/s]\n",
      "No sentence-transformers model found with name C:\\Users\\bartw/.cache\\torch\\sentence_transformers\\pdelobelle_robbert-v2-dutch-base. Creating a new one with MEAN pooling.\n",
      "Some weights of the model checkpoint at C:\\Users\\bartw/.cache\\torch\\sentence_transformers\\pdelobelle_robbert-v2-dutch-base were not used when initializing RobertaModel: ['lm_head.bias', 'lm_head.dense.bias', 'lm_head.dense.weight', 'lm_head.decoder.weight', 'lm_head.layer_norm.bias', 'lm_head.layer_norm.weight', 'lm_head.decoder.bias']\n",
      "- This IS expected if you are initializing RobertaModel from the checkpoint of a model trained on another task or with another architecture (e.g. initializing a BertForSequenceClassification model from a BertForPreTraining model).\n",
      "- This IS NOT expected if you are initializing RobertaModel from the checkpoint of a model that you expect to be exactly identical (initializing a BertForSequenceClassification model from a BertForSequenceClassification model).\n",
      "Some weights of RobertaModel were not initialized from the model checkpoint at C:\\Users\\bartw/.cache\\torch\\sentence_transformers\\pdelobelle_robbert-v2-dutch-base and are newly initialized: ['roberta.pooler.dense.bias', 'roberta.pooler.dense.weight']\n",
      "You should probably TRAIN this model on a down-stream task to be able to use it for predictions and inference.\n"
     ]
    },
    {
     "name": "stdout",
     "output_type": "stream",
     "text": [
      "[[-0.05971839  0.33046728 -0.01758916 ... -0.13344729  0.1035995\n",
      "   0.08198602]\n",
      " [ 0.2098927   0.05427433  0.13109139 ... -0.5119104   0.12725832\n",
      "  -0.03535213]\n",
      " [ 0.24329133  0.5047996  -0.12289456 ...  0.07178545 -0.19214566\n",
      "   0.11181694]\n",
      " ...\n",
      " [-0.12545165 -0.28594106  0.21877949 ... -0.5588715  -0.26899728\n",
      "  -0.35791844]\n",
      " [-0.58649313 -0.12710771 -0.12930635 ... -0.41726866  0.2432718\n",
      "  -0.30779362]\n",
      " [-0.27949256 -0.45445302 -0.03499668 ... -0.3291373  -0.38556004\n",
      "  -0.39341882]]\n"
     ]
    },
    {
     "data": {
      "image/png": "[encoded data removed]",
      "text/plain": [
       "<Figure size 432x288 with 1 Axes>"
      ]
     },
     "metadata": {
      "needs_background": "light"
     },
     "output_type": "display_data"
    }
   ],
   "source": [
    "from sentence_transformers import SentenceTransformer\n",
    "import numpy as np\n",
    "np.random.seed(42)\n",
    "sentences = [\"Frikandel\", \"Broodje\", \"frikandel broodje\", \"Tesla\", \"Apple\", \"Amazon\",\n",
    "             \"Tim Cook\", \"Joe Biden\", \"Barak obama\", \"Mark rutte\", \"Mark Rutte\", \"Jeff Bezos\",\n",
    "             \"Albert Heijn\", \"Tulpen\", \"Rotterdam\"]\n",
    "\n",
    "model = SentenceTransformer('pdelobelle/robbert-v2-dutch-base')\n",
    "embeddings = model.encode(sentences)\n",
    "print(embeddings)\n",
    "\n",
    "# plot embeddings\n",
    "import matplotlib.pyplot as plt\n",
    "from sklearn.decomposition import PCA\n",
    "pca = PCA(n_components=2)\n",
    "pca.fit(embeddings)\n",
    "X = pca.transform(embeddings)\n",
    "# make frikandel broodje and frikandel the same color\n",
    "colors = ['red', 'red', 'red', 'blue', 'blue', 'blue', 'green', 'green', 'green', 'green', 'green', 'green', 'red', 'red', 'red']\n",
    "plt.scatter(X[:, 0], X[:, 1], c=colors)\n",
    "for i, txt in enumerate(sentences):\n",
    "    plt.annotate(txt, (X[i, 0], X[i, 1]))\n"
   ]
  }
 ],
 "metadata": {
  "kernelspec": {
   "display_name": "Python 3",
   "language": "python",
   "name": "python3"
  },
  "language_info": {
   "codemirror_mode": {
    "name": "ipython",
    "version": 3
   },
   "file_extension": ".py",
   "mimetype": "text/x-python",
   "name": "python",
   "nbconvert_exporter": "python",
   "pygments_lexer": "ipython3",
   "version": "3.10.10"
  }
 },
 "nbformat": 4,
 "nbformat_minor": 2
}
