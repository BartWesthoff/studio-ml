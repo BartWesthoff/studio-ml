{
 "cells": [
  {
   "cell_type": "markdown",
   "metadata": {},
   "source": [
    "Step 1: Import necessary libraries and load the dataset"
   ]
  },
  {
   "cell_type": "code",
   "execution_count": null,
   "metadata": {},
   "outputs": [],
   "source": [
    "# TODO 1: Import required libraries\n",
    "# 1. fetch the california housing dataset\n",
    "# 2. split the data into training and testing sets\n",
    "# 3. import hyperopt library and the required modules (fmin etc.)\n",
    "# 4. import autokeras library and the required modules (StructuredDataRegressor etc.)\n",
    "# 5. import required regression models from sklearn (LinearRegression, Ridge, Lasso, DecisionTreeRegressor, RandomForestRegressor, GradientBoostingRegressor, SVR, KNeighborsRegressor)\n",
    "# 6. import required metrics from sklearn (mean_squared_error etc.)\n",
    "\n",
    "\n",
    "# Load the California Housing dataset\n",
    "data = \n",
    "X = data.data\n",
    "y = data.target\n",
    "\n",
    "# Split the data into training and testing sets\n",
    "X_train, X_test, y_train, y_test = \n"
   ]
  },
  {
   "cell_type": "code",
   "execution_count": null,
   "metadata": {},
   "outputs": [],
   "source": [
    "# TODO 2: Define the hyperparameter search space for AutoKeras using Hyperopt\n",
    "space = {\n",
    "    'model': hp.choice('model', [\n",
    "        {'type': 'linear_regression'},\n",
    "       \n",
    "    ])\n",
    "}\n"
   ]
  },
  {
   "cell_type": "code",
   "execution_count": null,
   "metadata": {},
   "outputs": [],
   "source": [
    "def objective(params):\n",
    "    model_type = params['model']['type']\n",
    "    \n",
    "    if model_type == 'linear_regression':\n",
    "        model = LinearRegression()\n",
    "  \n",
    "    \n",
    "    model.fit(X_train, y_train)\n",
    "    predictions = model.predict(X_test)\n",
    "    mse = \n",
    "    return mse\n"
   ]
  },
  {
   "cell_type": "code",
   "execution_count": null,
   "metadata": {},
   "outputs": [],
   "source": [
    "# TODO 5: Use Tree of Parzen Estimators (TPE) for hyperparameter optimization\n",
    "trials = \n",
    "best = \n",
    "\n",
    "# Extract the best hyperparameters\n",
    "best_params = \n"
   ]
  },
  {
   "cell_type": "code",
   "execution_count": null,
   "metadata": {},
   "outputs": [],
   "source": [
    "# TODO step 6 get test accuracy\n",
    "mse = \n",
    "mse"
   ]
  },
  {
   "cell_type": "code",
   "execution_count": null,
   "metadata": {},
   "outputs": [],
   "source": [
    "best_params"
   ]
  },
  {
   "cell_type": "code",
   "execution_count": null,
   "metadata": {},
   "outputs": [],
   "source": [
    "# TODO 6: Train AutoKeras\n",
    "best_model = ak.StructuredDataRegressor(max_trials=10, overwrite=True)\n",
    "best_model.fit(X_train, y_train)  # TODO 7: Set verbose=0 for less output\n",
    "\n",
    "# Evaluate the best model on the test set\n",
    "predictions = best_model.predict(X_test)\n",
    "test_mse = \n",
    "print(\"Test MSE:\", test_mse)\n"
   ]
  }
 ],
 "metadata": {
  "kernelspec": {
   "display_name": "Python 3",
   "language": "python",
   "name": "python3"
  },
  "language_info": {
   "codemirror_mode": {
    "name": "ipython",
    "version": 3
   },
   "file_extension": ".py",
   "mimetype": "text/x-python",
   "name": "python",
   "nbconvert_exporter": "python",
   "pygments_lexer": "ipython3",
   "version": "3.10.11"
  }
 },
 "nbformat": 4,
 "nbformat_minor": 2
}
